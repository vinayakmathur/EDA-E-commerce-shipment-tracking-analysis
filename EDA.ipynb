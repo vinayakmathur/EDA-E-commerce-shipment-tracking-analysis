{
 "cells": [
  {
   "cell_type": "code",
   "execution_count": 107,
   "metadata": {},
   "outputs": [],
   "source": [
    "import numpy as np \n",
    "import pandas as pd \n",
    "import matplotlib.pyplot as plt\n",
    "import seaborn as sns"
   ]
  },
  {
   "cell_type": "markdown",
   "metadata": {},
   "source": [
    "<h1>This data of product shipment tracking , answers instantly to your questions: </h1>\n",
    "<ul>\n",
    "<li>What was Customer Rating? And was the product delivered on time?</li>\n",
    "<li>Is Customer query is being answered?</li>\n",
    "<li>If Product importance is high. having higest rating or being delivered on time?</li>\n",
    "    </ul>"
   ]
  },
  {
   "cell_type": "markdown",
   "metadata": {},
   "source": [
    "<h1>About columns in dataset</h1>\n",
    "<ul>\n",
    " <li> ID: ID Number of Customers.</li>\n",
    " <li>Warehouse block: The Company have big Warehouse which is divided in to block such as A,B,C,D,E.</li>\n",
    "<li> customer care calls: The number of calls made from enquiry for enquiry of the shipment.</li>\n",
    "<li>Customer rating: The company has rated from every customer. 1 is the lowest (Worst), 5 is the highest (Best).</li>\n",
    "<li>Cost of the product: Cost of the Product in US Dollars.</li>\n",
    "<li>Prior purchases: The Number of Prior Purchase.</li>\n",
    "<li> Product importance: The company has categorized the product in the various parameter such as low, medium, high.</li>\n",
    "<li> Gender: Male and Female.</li>\n",
    "<li> Discount offered: Discount offered on that specific product.</li>\n",
    "<li> Weight in gms: It is the weight in grams.</li>\n",
    "<li>Reached on time: It is the target variable, where 1 Indicates that the product has NOT reached on time and 0 indicates it has reached on time of shipment:The Company Ships the products in multiple way such as Ship, Flight and Road.</li>\n",
    "\n",
    "    "
   ]
  },
  {
   "cell_type": "code",
   "execution_count": 108,
   "metadata": {},
   "outputs": [],
   "source": [
    "data = pd.read_csv('F:\\Downloads\\Train (2).csv')"
   ]
  },
  {
   "cell_type": "code",
   "execution_count": 109,
   "metadata": {},
   "outputs": [
    {
     "data": {
      "text/html": [
       "<div>\n",
       "<style scoped>\n",
       "    .dataframe tbody tr th:only-of-type {\n",
       "        vertical-align: middle;\n",
       "    }\n",
       "\n",
       "    .dataframe tbody tr th {\n",
       "        vertical-align: top;\n",
       "    }\n",
       "\n",
       "    .dataframe thead th {\n",
       "        text-align: right;\n",
       "    }\n",
       "</style>\n",
       "<table border=\"1\" class=\"dataframe\">\n",
       "  <thead>\n",
       "    <tr style=\"text-align: right;\">\n",
       "      <th></th>\n",
       "      <th>ID</th>\n",
       "      <th>Warehouse_block</th>\n",
       "      <th>Mode_of_Shipment</th>\n",
       "      <th>Customer_care_calls</th>\n",
       "      <th>Customer_rating</th>\n",
       "      <th>Cost_of_the_Product</th>\n",
       "      <th>Prior_purchases</th>\n",
       "      <th>Product_importance</th>\n",
       "      <th>Gender</th>\n",
       "      <th>Discount_offered</th>\n",
       "      <th>Weight_in_gms</th>\n",
       "      <th>Reached.on.Time_Y.N</th>\n",
       "    </tr>\n",
       "  </thead>\n",
       "  <tbody>\n",
       "    <tr>\n",
       "      <th>0</th>\n",
       "      <td>1</td>\n",
       "      <td>D</td>\n",
       "      <td>Flight</td>\n",
       "      <td>4</td>\n",
       "      <td>2</td>\n",
       "      <td>177</td>\n",
       "      <td>3</td>\n",
       "      <td>low</td>\n",
       "      <td>F</td>\n",
       "      <td>44</td>\n",
       "      <td>1233</td>\n",
       "      <td>1</td>\n",
       "    </tr>\n",
       "    <tr>\n",
       "      <th>1</th>\n",
       "      <td>2</td>\n",
       "      <td>F</td>\n",
       "      <td>Flight</td>\n",
       "      <td>4</td>\n",
       "      <td>5</td>\n",
       "      <td>216</td>\n",
       "      <td>2</td>\n",
       "      <td>low</td>\n",
       "      <td>M</td>\n",
       "      <td>59</td>\n",
       "      <td>3088</td>\n",
       "      <td>1</td>\n",
       "    </tr>\n",
       "    <tr>\n",
       "      <th>2</th>\n",
       "      <td>3</td>\n",
       "      <td>A</td>\n",
       "      <td>Flight</td>\n",
       "      <td>2</td>\n",
       "      <td>2</td>\n",
       "      <td>183</td>\n",
       "      <td>4</td>\n",
       "      <td>low</td>\n",
       "      <td>M</td>\n",
       "      <td>48</td>\n",
       "      <td>3374</td>\n",
       "      <td>1</td>\n",
       "    </tr>\n",
       "    <tr>\n",
       "      <th>3</th>\n",
       "      <td>4</td>\n",
       "      <td>B</td>\n",
       "      <td>Flight</td>\n",
       "      <td>3</td>\n",
       "      <td>3</td>\n",
       "      <td>176</td>\n",
       "      <td>4</td>\n",
       "      <td>medium</td>\n",
       "      <td>M</td>\n",
       "      <td>10</td>\n",
       "      <td>1177</td>\n",
       "      <td>1</td>\n",
       "    </tr>\n",
       "    <tr>\n",
       "      <th>4</th>\n",
       "      <td>5</td>\n",
       "      <td>C</td>\n",
       "      <td>Flight</td>\n",
       "      <td>2</td>\n",
       "      <td>2</td>\n",
       "      <td>184</td>\n",
       "      <td>3</td>\n",
       "      <td>medium</td>\n",
       "      <td>F</td>\n",
       "      <td>46</td>\n",
       "      <td>2484</td>\n",
       "      <td>1</td>\n",
       "    </tr>\n",
       "  </tbody>\n",
       "</table>\n",
       "</div>"
      ],
      "text/plain": [
       "   ID Warehouse_block Mode_of_Shipment  Customer_care_calls  Customer_rating  \\\n",
       "0   1               D           Flight                    4                2   \n",
       "1   2               F           Flight                    4                5   \n",
       "2   3               A           Flight                    2                2   \n",
       "3   4               B           Flight                    3                3   \n",
       "4   5               C           Flight                    2                2   \n",
       "\n",
       "   Cost_of_the_Product  Prior_purchases Product_importance Gender  \\\n",
       "0                  177                3                low      F   \n",
       "1                  216                2                low      M   \n",
       "2                  183                4                low      M   \n",
       "3                  176                4             medium      M   \n",
       "4                  184                3             medium      F   \n",
       "\n",
       "   Discount_offered  Weight_in_gms  Reached.on.Time_Y.N  \n",
       "0                44           1233                    1  \n",
       "1                59           3088                    1  \n",
       "2                48           3374                    1  \n",
       "3                10           1177                    1  \n",
       "4                46           2484                    1  "
      ]
     },
     "execution_count": 109,
     "metadata": {},
     "output_type": "execute_result"
    }
   ],
   "source": [
    "data.head()"
   ]
  },
  {
   "cell_type": "markdown",
   "metadata": {},
   "source": [
    "<h1></h1>"
   ]
  },
  {
   "cell_type": "code",
   "execution_count": 110,
   "metadata": {},
   "outputs": [
    {
     "data": {
      "text/plain": [
       "4360"
      ]
     },
     "execution_count": 110,
     "metadata": {},
     "output_type": "execute_result"
    }
   ],
   "source": [
    "\n",
    "(data.Customer_rating>3).sum()"
   ]
  },
  {
   "cell_type": "code",
   "execution_count": 114,
   "metadata": {},
   "outputs": [
    {
     "data": {
      "text/html": [
       "<div>\n",
       "<style scoped>\n",
       "    .dataframe tbody tr th:only-of-type {\n",
       "        vertical-align: middle;\n",
       "    }\n",
       "\n",
       "    .dataframe tbody tr th {\n",
       "        vertical-align: top;\n",
       "    }\n",
       "\n",
       "    .dataframe thead th {\n",
       "        text-align: right;\n",
       "    }\n",
       "</style>\n",
       "<table border=\"1\" class=\"dataframe\">\n",
       "  <thead>\n",
       "    <tr style=\"text-align: right;\">\n",
       "      <th></th>\n",
       "      <th>ID</th>\n",
       "      <th>Customer_care_calls</th>\n",
       "      <th>Customer_rating</th>\n",
       "      <th>Cost_of_the_Product</th>\n",
       "      <th>Prior_purchases</th>\n",
       "      <th>Discount_offered</th>\n",
       "      <th>Weight_in_gms</th>\n",
       "      <th>Reached.on.Time_Y.N</th>\n",
       "    </tr>\n",
       "  </thead>\n",
       "  <tbody>\n",
       "    <tr>\n",
       "      <th>ID</th>\n",
       "      <td>1.000000</td>\n",
       "      <td>0.188998</td>\n",
       "      <td>-0.005722</td>\n",
       "      <td>0.196791</td>\n",
       "      <td>0.145369</td>\n",
       "      <td>-0.598278</td>\n",
       "      <td>0.278312</td>\n",
       "      <td>-0.411822</td>\n",
       "    </tr>\n",
       "    <tr>\n",
       "      <th>Customer_care_calls</th>\n",
       "      <td>0.188998</td>\n",
       "      <td>1.000000</td>\n",
       "      <td>0.012209</td>\n",
       "      <td>0.323182</td>\n",
       "      <td>0.180771</td>\n",
       "      <td>-0.130750</td>\n",
       "      <td>-0.276615</td>\n",
       "      <td>-0.067126</td>\n",
       "    </tr>\n",
       "    <tr>\n",
       "      <th>Customer_rating</th>\n",
       "      <td>-0.005722</td>\n",
       "      <td>0.012209</td>\n",
       "      <td>1.000000</td>\n",
       "      <td>0.009270</td>\n",
       "      <td>0.013179</td>\n",
       "      <td>-0.003124</td>\n",
       "      <td>-0.001897</td>\n",
       "      <td>0.013119</td>\n",
       "    </tr>\n",
       "    <tr>\n",
       "      <th>Cost_of_the_Product</th>\n",
       "      <td>0.196791</td>\n",
       "      <td>0.323182</td>\n",
       "      <td>0.009270</td>\n",
       "      <td>1.000000</td>\n",
       "      <td>0.123676</td>\n",
       "      <td>-0.138312</td>\n",
       "      <td>-0.132604</td>\n",
       "      <td>-0.073587</td>\n",
       "    </tr>\n",
       "    <tr>\n",
       "      <th>Prior_purchases</th>\n",
       "      <td>0.145369</td>\n",
       "      <td>0.180771</td>\n",
       "      <td>0.013179</td>\n",
       "      <td>0.123676</td>\n",
       "      <td>1.000000</td>\n",
       "      <td>-0.082769</td>\n",
       "      <td>-0.168213</td>\n",
       "      <td>-0.055515</td>\n",
       "    </tr>\n",
       "    <tr>\n",
       "      <th>Discount_offered</th>\n",
       "      <td>-0.598278</td>\n",
       "      <td>-0.130750</td>\n",
       "      <td>-0.003124</td>\n",
       "      <td>-0.138312</td>\n",
       "      <td>-0.082769</td>\n",
       "      <td>1.000000</td>\n",
       "      <td>-0.376067</td>\n",
       "      <td>0.397108</td>\n",
       "    </tr>\n",
       "    <tr>\n",
       "      <th>Weight_in_gms</th>\n",
       "      <td>0.278312</td>\n",
       "      <td>-0.276615</td>\n",
       "      <td>-0.001897</td>\n",
       "      <td>-0.132604</td>\n",
       "      <td>-0.168213</td>\n",
       "      <td>-0.376067</td>\n",
       "      <td>1.000000</td>\n",
       "      <td>-0.268793</td>\n",
       "    </tr>\n",
       "    <tr>\n",
       "      <th>Reached.on.Time_Y.N</th>\n",
       "      <td>-0.411822</td>\n",
       "      <td>-0.067126</td>\n",
       "      <td>0.013119</td>\n",
       "      <td>-0.073587</td>\n",
       "      <td>-0.055515</td>\n",
       "      <td>0.397108</td>\n",
       "      <td>-0.268793</td>\n",
       "      <td>1.000000</td>\n",
       "    </tr>\n",
       "  </tbody>\n",
       "</table>\n",
       "</div>"
      ],
      "text/plain": [
       "                           ID  Customer_care_calls  Customer_rating  \\\n",
       "ID                   1.000000             0.188998        -0.005722   \n",
       "Customer_care_calls  0.188998             1.000000         0.012209   \n",
       "Customer_rating     -0.005722             0.012209         1.000000   \n",
       "Cost_of_the_Product  0.196791             0.323182         0.009270   \n",
       "Prior_purchases      0.145369             0.180771         0.013179   \n",
       "Discount_offered    -0.598278            -0.130750        -0.003124   \n",
       "Weight_in_gms        0.278312            -0.276615        -0.001897   \n",
       "Reached.on.Time_Y.N -0.411822            -0.067126         0.013119   \n",
       "\n",
       "                     Cost_of_the_Product  Prior_purchases  Discount_offered  \\\n",
       "ID                              0.196791         0.145369         -0.598278   \n",
       "Customer_care_calls             0.323182         0.180771         -0.130750   \n",
       "Customer_rating                 0.009270         0.013179         -0.003124   \n",
       "Cost_of_the_Product             1.000000         0.123676         -0.138312   \n",
       "Prior_purchases                 0.123676         1.000000         -0.082769   \n",
       "Discount_offered               -0.138312        -0.082769          1.000000   \n",
       "Weight_in_gms                  -0.132604        -0.168213         -0.376067   \n",
       "Reached.on.Time_Y.N            -0.073587        -0.055515          0.397108   \n",
       "\n",
       "                     Weight_in_gms  Reached.on.Time_Y.N  \n",
       "ID                        0.278312            -0.411822  \n",
       "Customer_care_calls      -0.276615            -0.067126  \n",
       "Customer_rating          -0.001897             0.013119  \n",
       "Cost_of_the_Product      -0.132604            -0.073587  \n",
       "Prior_purchases          -0.168213            -0.055515  \n",
       "Discount_offered         -0.376067             0.397108  \n",
       "Weight_in_gms             1.000000            -0.268793  \n",
       "Reached.on.Time_Y.N      -0.268793             1.000000  "
      ]
     },
     "execution_count": 114,
     "metadata": {},
     "output_type": "execute_result"
    }
   ],
   "source": [
    "data.corr()"
   ]
  },
  {
   "cell_type": "code",
   "execution_count": 126,
   "metadata": {},
   "outputs": [
    {
     "data": {
      "text/plain": [
       "<AxesSubplot:xlabel='Customer_rating'>"
      ]
     },
     "execution_count": 126,
     "metadata": {},
     "output_type": "execute_result"
    },
    {
     "data": {
      "image/png": "[encoded data removed]",
      "text/plain": [
       "<Figure size 432x288 with 1 Axes>"
      ]
     },
     "metadata": {
      "needs_background": "light"
     },
     "output_type": "display_data"
    }
   ],
   "source": [
    "sns.boxplot(data=data,x='Customer_rating',palette='Accent')"
   ]
  },
  {
   "cell_type": "markdown",
   "metadata": {},
   "source": [
    "<ol>\n",
    "<li>We can say that maximum customers gives 3 rating to the company</li>\n",
    "    <li>Customers who gives rating 3-5 recived products on time</li>\n",
    "\n",
    "    "
   ]
  },
  {
   "cell_type": "markdown",
   "metadata": {},
   "source": [
    " <h2>customers give 2 max between 1 and 2 rating to company and they also recived product on time.</h2> "
   ]
  },
  {
   "cell_type": "markdown",
   "metadata": {},
   "source": [
    "So we can say that customers who recived product on time are also the one who give good to best rating to the company also ."
   ]
  },
  {
   "cell_type": "code",
   "execution_count": 128,
   "metadata": {},
   "outputs": [
    {
     "data": {
      "text/plain": [
       "<AxesSubplot:xlabel='Customer_rating', ylabel='count'>"
      ]
     },
     "execution_count": 128,
     "metadata": {},
     "output_type": "execute_result"
    },
    {
     "data": {
      "image/png": "[encoded data removed]",
      "text/plain": [
       "<Figure size 432x288 with 1 Axes>"
      ]
     },
     "metadata": {
      "needs_background": "light"
     },
     "output_type": "display_data"
    }
   ],
   "source": [
    "\n",
    "sns.countplot(data=data,x='Customer_rating',hue='Reached.on.Time_Y.N')"
   ]
  },
  {
   "cell_type": "markdown",
   "metadata": {},
   "source": [
    "<h1>Is Customer query is being answered?</h1>"
   ]
  },
  {
   "cell_type": "code",
   "execution_count": 143,
   "metadata": {},
   "outputs": [
    {
     "data": {
      "text/plain": [
       "<AxesSubplot:xlabel='Customer_care_calls', ylabel='count'>"
      ]
     },
     "execution_count": 143,
     "metadata": {},
     "output_type": "execute_result"
    },
    {
     "data": {
      "image/png": "[encoded data removed]",
      "text/plain": [
       "<Figure size 1008x576 with 1 Axes>"
      ]
     },
     "metadata": {
      "needs_background": "light"
     },
     "output_type": "display_data"
    }
   ],
   "source": [
    "plt.figure(figsize= (14,8))\n",
    "sns.countplot(data=data,x='Customer_care_calls',hue='Customer_rating')"
   ]
  },
  {
   "cell_type": "markdown",
   "metadata": {},
   "source": [
    "<ul>\n",
    "<li>As above visuals suggest that customers give low rating to company when they have to make more then 3 calls to customer care .</li>\n",
    "<li>There is more number of customers who call 4 times and they give 3 rating to the company .</li>\n",
    "<li>Customer who called less then 3 times are less then 200 and customers who called 4 times are more then 700 out of total population.</li>\n",
    "<li>This show that costumers query are not answered well therefore they are keep on call the customer care.</li>\n",
    "    </ul>"
   ]
  },
  {
   "cell_type": "code",
   "execution_count": null,
   "metadata": {},
   "outputs": [],
   "source": []
  }
 ],
 "metadata": {
  "kernelspec": {
   "display_name": "Python 3",
   "language": "python",
   "name": "python3"
  },
  "language_info": {
   "codemirror_mode": {
    "name": "ipython",
    "version": 3
   },
   "file_extension": ".py",
   "mimetype": "text/x-python",
   "name": "python",
   "nbconvert_exporter": "python",
   "pygments_lexer": "ipython3",
   "version": "3.8.5"
  }
 },
 "nbformat": 4,
 "nbformat_minor": 4
}
